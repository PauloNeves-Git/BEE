{
 "cells": [
  {
   "cell_type": "code",
   "execution_count": 1,
   "id": "49f52a50",
   "metadata": {},
   "outputs": [],
   "source": [
    "# Environment necessary to run code is defined in BEE/package_requierements.txt\n",
    "import sys, os\n",
    "import numpy as np\n",
    "import pandas as pd\n",
    "import torch\n",
    "import pkg_resources\n",
    "import collections\n",
    "import json, time, timeit\n",
    "\n",
    "import seaborn as sns\n",
    "import matplotlib.pyplot as plt\n",
    "\n",
    "import sklearn\n",
    "from sklearn.model_selection import train_test_split\n",
    "\n",
    "sys.path.insert(0, \"../../BEE\")\n",
    "sys.path.insert(0, \"../reaction_transformers\")\n",
    "import reaction_transformers\n",
    "from reaction_transformers.models import SmilesLanguageModelingModel\n",
    "from reaction_transformers.models import SmilesClassificationModel\n",
    "from reaction_transformers.conditions_encoding import ConditionIDEncoder\n",
    "from reaction_transformers.tokenization import smi_tokenizer\n",
    "\n",
    "from reaction_transformers.input_output_processing import split_data, convert_strlst2lstfloat, replace_sep, add_photocat_react_ids, nested_cross_validation, \\\n",
    "                                                          epochs_calc_r2, r2score_stats, save_ncv_testresults\n",
    "\n",
    "from tqdm.notebook import tqdm\n",
    "tqdm.pandas()"
   ]
  },
  {
   "cell_type": "code",
   "execution_count": 2,
   "id": "373e105c",
   "metadata": {},
   "outputs": [],
   "source": [
    "#Both the pretraining and finetuning code expects these parameters to be defined\n",
    "#These should be user defined depending on use case and dataset\n",
    "\n",
    "PRECURSOR_MODEL_NAME = \"usptoep20\"\n",
    "ENRICHMENT_VOCAB_SIZE = 16\n",
    "\n",
    "#Use of enrichment in precursor model is not a requierement for its use in finetuning\n",
    "ENRICHMENT_THRESHOLDS = [0.02, 0.05, 0.5, 5, 100, 150, 180, 1000]\n",
    "ID2ROLE = {\"1\": \"aryl_halides\", \"2\":\"solvent\", \"3\": \"photocalysts\", \"4\": \"piperidines\", \"5\":\"catalysts\", \"6\":\"ni_catalysts\"}"
   ]
  },
  {
   "cell_type": "markdown",
   "id": "9905c880",
   "metadata": {},
   "source": [
    "## MLM training with USPTO 2020"
   ]
  },
  {
   "cell_type": "code",
   "execution_count": 3,
   "id": "1dbc54ce",
   "metadata": {},
   "outputs": [],
   "source": [
    "#Cell used to create the train and test .txt files\n",
    "uspto_csv_path = \"../data/USPTO_cleaned_1.38M.csv\"\n",
    "train_file_path = '../data/uspto_train.txt'\n",
    "eval_file_path = '../data/uspto_test.txt'\n",
    "\n",
    "assert (os.path.exists(train_file_path) and  os.path.exists(eval_file_path)), \\\n",
    "\"uspto_train.txt and/or uspto_test.txt not were found in the data folder. uspto_train_test.zip must be unzipped.\"\n",
    "\n",
    "if os.path.exists(uspto_csv_path) and not(os.path.exists(train_file_path)):\n",
    "    df_uspto = pd.read_csv(uspto_csv_path)\n",
    "    df_uspto = df_uspto[~df_uspto.smiles.isna()]\n",
    "    df_uspto = df_uspto.sample(frac=1, random_state = 42)\n",
    "\n",
    "    print(f\"The total number of reactions in this USPTO dataset is {len(df_uspto)}.\")\n",
    "\n",
    "    with open(train_file_path,'w') as f:\n",
    "        f.write('\\n'.join(df_uspto.smiles.values[:int(len(df_uspto)*0.85)]))\n",
    "    with open(eval_file_path,'w') as f:\n",
    "        f.write('\\n'.join(df_uspto.smiles.values[int(len(df_uspto)*0.85):]))\n"
   ]
  },
  {
   "cell_type": "code",
   "execution_count": 4,
   "id": "e93e580c",
   "metadata": {},
   "outputs": [],
   "source": [
    "#equivalents_vocab_size should be defined according to the number of classes that will encode additional condition information in the pretraining and/or finetuning\n",
    "#even if the pretaining data doesn't have any additional condition classes, a value should be set accounting for input data in the finetuning\n",
    "\n",
    "config = {\n",
    "  \"architectures\": [\"BertForMaskedLM\"],\n",
    "  \"attention_probs_dropout_prob\": 0.1,\n",
    "  \"hidden_act\": \"gelu\",\n",
    "  \"hidden_dropout_prob\": 0.1,\n",
    "  \"hidden_size\": 256,\n",
    "  \"initializer_range\": 0.02,\n",
    "  \"intermediate_size\": 512,\n",
    "  \"layer_norm_eps\": 1e-12,\n",
    "  \"max_position_embeddings\": 512,\n",
    "  \"model_type\": \"Bert\",\n",
    "  \"num_attention_heads\": 4,\n",
    "  \"num_hidden_layers\": 12,\n",
    "  \"pad_token_id\": 0,\n",
    "  \"type_vocab_size\": 2,\n",
    "  \"equivalents_vocab_size\": ENRICHMENT_VOCAB_SIZE\n",
    "}\n",
    "vocab_path = f\"../reaction_transformers/pretrained_models/transformers/bert_{PRECURSOR_MODEL_NAME}/vocab.txt\"\n",
    "args = {'config': config, \n",
    "        'vocab_path': vocab_path, \n",
    "        'train_batch_size': 2*32,\n",
    "        'manual_seed': 42,\n",
    "        \"fp16\": False,\n",
    "        \"num_train_epochs\": 30,\n",
    "        'max_seq_length': 550,\n",
    "        'evaluate_during_training': False,\n",
    "        'overwrite_output_dir': True,\n",
    "        'output_dir': f'../reaction_transformers/pretrained_models/transformers/bert_{PRECURSOR_MODEL_NAME}',\n",
    "        'learning_rate': 2*1e-4,\n",
    "        'n_gpu': 1\n",
    "       }\n",
    "\n",
    "model = SmilesLanguageModelingModel(model_type='bert', model_name=None, args=args)\n",
    "\n",
    "model.train_model(train_file=train_file, eval_file=eval_file, show_running_loss = False)"
   ]
  },
  {
   "cell_type": "markdown",
   "id": "5e4a8f29",
   "metadata": {},
   "source": [
    "#### Code to prepare finetuning data for regression task"
   ]
  },
  {
   "cell_type": "code",
   "execution_count": 7,
   "id": "1a685c40",
   "metadata": {},
   "outputs": [],
   "source": [
    "def load_prepare_data(data_path, CondIDEnc):\n",
    "    \"\"\"\n",
    "    Load .csv into dataframe and process data into ML ready format\n",
    "    \"\"\"\n",
    "    df_photoredox = pd.read_csv(data_path + \"/Photoredox_rxns.csv\", index_col = 0)\n",
    "    \n",
    "    #Adding a high moles value to solvent such that resulting class wont overlap with other enrichment embedding classes \n",
    "    df_photoredox[\"solvent_moles\"] = 1000\n",
    "\n",
    "    #notebook expects data to be standardized (rdkit canonical sorted) with reactant_ids ready\n",
    "    df_photoredox[\"reactant_ids_order\"] = df_photoredox.progress_apply(lambda row: convert_strlst2lstfloat(row[\"reactant_ids_order\"]), axis = 1)\n",
    "    #this line is only necessary if reactant ids associated with the photocatalyst are missing\n",
    "    df_photoredox[\"reactant_ids_order\"] = df_photoredox.progress_apply(lambda row: add_photocat_react_ids(row, ID2ROLE), axis = 1)\n",
    "    df_photoredox[\"reactant_moles\"] = df_photoredox.progress_apply(lambda row: CondIDEnc.convert_reactant_id_2_moles(row), axis = 1)\n",
    "\n",
    "    df_photoredox[\"enrichment_class\"] = df_photoredox.reactant_moles.progress_apply(lambda reactant_moles: CondIDEnc.convert_conditions2class(reactant_moles))\n",
    "\n",
    "    df_photoredox[\"reaction_smiles_sep\"] = df_photoredox.apply(lambda row: replace_sep(row), axis = 1)\n",
    "    df_photoredox[\"equivalents\"] = df_photoredox.progress_apply(lambda row: CondIDEnc.generate_equivalents_vector(row), axis = 1)\n",
    "    df_photoredox[\"equivalents_vector_size\"] = df_photoredox.equivalents.apply(lambda eqvs_vec: len(eqvs_vec))\n",
    "\n",
    "    #sanity check\n",
    "    df_photoredox[\"reaction_smiles_size\"] = df_photoredox[\"reaction_smiles_std\"].apply(lambda react_smiles: len(smi_tokenizer(react_smiles).split(\" \")))\n",
    "    assert df_photoredox['reaction_smiles_size'].equals(df_photoredox['equivalents_vector_size'])\n",
    "\n",
    "    df_photoredox[\"labels\"] = df_photoredox['uplcms'].apply(lambda uplcms: uplcms/100)\n",
    "    \n",
    "    #Column with chython standardized smiles or sorted rdkit canonical smiles\n",
    "    df_photoredox.rename(columns={\"reaction_smiles_std\":\"text\"}, inplace = True)\n",
    "\n",
    "    df_photoredox = df_photoredox.sample(frac = 1, random_state = 42)\n",
    "\n",
    "    return df_photoredox"
   ]
  },
  {
   "cell_type": "markdown",
   "id": "9db10f31",
   "metadata": {},
   "source": [
    "## Running USPTO BERT enriched vs not enriched on PhotoRedox 1700"
   ]
  },
  {
   "cell_type": "code",
   "execution_count": 5,
   "id": "1a27f9d7",
   "metadata": {},
   "outputs": [],
   "source": [
    "data_path = '../data'\n",
    "num_splits = 5\n",
    "CondIDEnc = ConditionIDEncoder(PRECURSOR_MODEL_NAME, ENRICHMENT_THRESHOLDS, ID2ROLE)"
   ]
  },
  {
   "cell_type": "code",
   "execution_count": null,
   "id": "4c8326d3",
   "metadata": {},
   "outputs": [],
   "source": [
    "%%capture\n",
    "\n",
    "#Photoredox data used in this notebook is donominated \"Informer Library\" and was derived from a publication from Scientists at Merck    \n",
    "df_photoredox = load_prepare_data(data_path, CondIDEnc)\n",
    "\n",
    "#Finetuning USPTO BERT in 5 different splits with equivalent information\n",
    "col_interest = [\"text\",\"labels\",\"equivalents\"]\n",
    "nested_cross_validation(df_photoredox, col_interest, num_splits, PRECURSOR_MODEL_NAME)\n",
    "\n",
    "#Finetuning USPTO BERT in 5 different splits without equivalent information\n",
    "col_interest = [\"text\",\"labels\"]\n",
    "nested_cross_validation(df_photoredox, col_interest, num_splits, PRECURSOR_MODEL_NAME)"
   ]
  },
  {
   "cell_type": "code",
   "execution_count": 4,
   "id": "4ff3914c",
   "metadata": {},
   "outputs": [],
   "source": [
    "%%capture\n",
    "\n",
    "df_photoredox = load_prepare_data(data_path, CondIDEnc)\n",
    "\n",
    "#Testing and saving results of finetuned USPTO BERT with enriched embedding\n",
    "col_interest = [\"text\",\"labels\",\"equivalents\"]\n",
    "save_ncv_testresults(df_photoredox, col_interest, num_splits, PRECURSOR_MODEL_NAME)\n",
    "\n",
    "#Testing and saving results of finetuned USPTO BERT without enriched embedding\n",
    "col_interest = [\"text\",\"labels\"]\n",
    "save_ncv_testresults(df_photoredox, col_interest, num_splits, PRECURSOR_MODEL_NAME)"
   ]
  },
  {
   "cell_type": "code",
   "execution_count": 8,
   "id": "d908ad09",
   "metadata": {},
   "outputs": [
    {
     "data": {
      "image/png": "[encoded data removed]",
      "text/plain": [
       "<Figure size 600x480 with 1 Axes>"
      ]
     },
     "metadata": {},
     "output_type": "display_data"
    }
   ],
   "source": [
    "from matplotlib.pyplot import figure\n",
    "\n",
    "figure(figsize=(7.5, 6), dpi=80)\n",
    "\n",
    "with open (f\"../results/{PRECURSOR_MODEL_NAME}_photoredox_ncv_NOeqvs_results.json\", \"r\") as json_data:\n",
    "    r2_scores_all_BEE = json.loads(json_data.read())\n",
    "\n",
    "r2_bee_all_avg, r2_bee_all_min, r2_bee_all_max, r2_bee_all_std = r2score_stats(r2_scores_all_BEE[1])\n",
    "\n",
    "epochs = [int(ep.split(\"_\")[1]) for ep in list(r2_scores_all_BEE[1][\"ncv_0\"].keys())]\n",
    "plt.plot(epochs, r2_bee_all_avg, marker='v', label = \"USPTO BERT\")\n",
    "plt.fill_between(epochs, [i-j for i,j in zip(r2_bee_all_avg,r2_bee_all_std)], [i+j for i,j in zip(r2_bee_all_avg,r2_bee_all_std)], color='blue', alpha=0.2)\n",
    "\n",
    "\n",
    "with open (f\"../results/{PRECURSOR_MODEL_NAME}_photoredox_ncv_eqvs_results.json\", \"r\") as json_data:\n",
    "    r2_scores_all_BEE = json.loads(json_data.read())\n",
    "\n",
    "r2_bee_all_avg, r2_bee_all_min, r2_bee_all_max, r2_bee_all_std = r2score_stats(r2_scores_all_BEE[1])\n",
    "\n",
    "epochs = [int(ep.split(\"_\")[1]) for ep in list(r2_scores_all_BEE[1][\"ncv_0\"].keys())]\n",
    "plt.plot(epochs, r2_bee_all_avg, color='green', marker='^', label = \"USPTO BEE\")\n",
    "plt.fill_between(epochs, [i-j for i,j in zip(r2_bee_all_avg,r2_bee_all_std)], [i+j for i,j in zip(r2_bee_all_avg,r2_bee_all_std)], color='green', alpha=0.2)\n",
    "\n",
    "plt.xlim(10,170)\n",
    "plt.ylim(0.3,0.95)\n",
    "#plt.title(\"Performance Comparison on Regression Task\")\n",
    "plt.xlabel(\"Epochs\")\n",
    "plt.ylabel(\"Average r2 score\")\n",
    "plt.legend(loc = 'lower right')\n",
    "plt.show()"
   ]
  },
  {
   "cell_type": "markdown",
   "id": "b5f64c4c",
   "metadata": {},
   "source": [
    "### Measuring Average time of an inference operation"
   ]
  },
  {
   "cell_type": "code",
   "execution_count": 5,
   "id": "2301085b",
   "metadata": {},
   "outputs": [
    {
     "data": {
      "application/vnd.jupyter.widget-view+json": {
       "model_id": "e2c0bdd1276345e597ee055196ba3e9b",
       "version_major": 2,
       "version_minor": 0
      },
      "text/plain": [
       "  0%|          | 0/1728 [00:00<?, ?it/s]"
      ]
     },
     "metadata": {},
     "output_type": "display_data"
    },
    {
     "data": {
      "application/vnd.jupyter.widget-view+json": {
       "model_id": "731650024c7c4b7bbc83e0da5db8d640",
       "version_major": 2,
       "version_minor": 0
      },
      "text/plain": [
       "  0%|          | 0/1728 [00:00<?, ?it/s]"
      ]
     },
     "metadata": {},
     "output_type": "display_data"
    },
    {
     "data": {
      "application/vnd.jupyter.widget-view+json": {
       "model_id": "691a3440073b4c3bb387626c52f2fbb2",
       "version_major": 2,
       "version_minor": 0
      },
      "text/plain": [
       "  0%|          | 0/1728 [00:00<?, ?it/s]"
      ]
     },
     "metadata": {},
     "output_type": "display_data"
    },
    {
     "data": {
      "application/vnd.jupyter.widget-view+json": {
       "model_id": "59f64b2de8e148e5b3c6691de2814d0e",
       "version_major": 2,
       "version_minor": 0
      },
      "text/plain": [
       "  0%|          | 0/1728 [00:00<?, ?it/s]"
      ]
     },
     "metadata": {},
     "output_type": "display_data"
    },
    {
     "data": {
      "application/vnd.jupyter.widget-view+json": {
       "model_id": "f5e4fa3cbfdc48bebf64e0bbaebc412c",
       "version_major": 2,
       "version_minor": 0
      },
      "text/plain": [
       "  0%|          | 0/1728 [00:00<?, ?it/s]"
      ]
     },
     "metadata": {},
     "output_type": "display_data"
    },
    {
     "name": "stderr",
     "output_type": "stream",
     "text": [
      "[W 2022-10-05 10:10:19,772.772 utilities.tokenization_utils] Setting 'max_len_single_sentence' is now deprecated. This value is automatically set up.\n",
      "[W 2022-10-05 10:10:19,773.773 utilities.tokenization_utils] Setting 'max_len_sentences_pair' is now deprecated. This value is automatically set up.\n"
     ]
    },
    {
     "name": "stdout",
     "output_type": "stream",
     "text": [
      "Equivalents used.\n"
     ]
    },
    {
     "name": "stderr",
     "output_type": "stream",
     "text": [
      "100%|██████████| 8640/8640 [00:01<00:00, 5672.23it/s]\n",
      "100%|██████████| 1080/1080 [00:09<00:00, 116.95it/s]"
     ]
    },
    {
     "name": "stdout",
     "output_type": "stream",
     "text": [
      "Model made 608.92 complete inference operations per second.\n"
     ]
    },
    {
     "name": "stderr",
     "output_type": "stream",
     "text": [
      "\n"
     ]
    }
   ],
   "source": [
    "df_photoredox = load_prepare_data(data_path)\n",
    "df_photoredox= pd.concat([df_photoredox]*5)\n",
    "\n",
    "model_dir = f\"../fine_tuned_models/{PRECURSOR_MODEL_NAME}_photoredox_eqvs_ncv_0\"\n",
    "checkpoit_multiple=22\n",
    "epoch = 160\n",
    "\n",
    "model_path = model_dir + f\"/checkpoint-{epoch*checkpoit_multiple}-epoch-{epoch}\"\n",
    "trained_yield_bert = SmilesClassificationModel('bert', model_path, num_labels=1, args={\"regression\": True}, use_cuda=torch.cuda.is_available())\n",
    "if \"equivalents\" in df_photoredox.columns:\n",
    "    print(\"Equivalents used.\")\n",
    "    t1 = time.time()\n",
    "    lcms_predicted = trained_yield_bert.predict(df_photoredox.text.values, equivalents = df_photoredox.equivalents.values)[0]\n",
    "    t2 = time.time()\n",
    "print(f\"Model made {round(len(df_photoredox)/(t2-t1),2)} complete inference operations per second.\")"
   ]
  },
  {
   "cell_type": "code",
   "execution_count": 6,
   "id": "48c56617",
   "metadata": {},
   "outputs": [
    {
     "name": "stdout",
     "output_type": "stream",
     "text": [
      "Wed Oct  5 10:15:34 2022       \n",
      "+-----------------------------------------------------------------------------+\n",
      "| NVIDIA-SMI 450.142.00   Driver Version: 450.142.00   CUDA Version: 11.4     |\n",
      "|-------------------------------+----------------------+----------------------+\n",
      "| GPU  Name        Persistence-M| Bus-Id        Disp.A | Volatile Uncorr. ECC |\n",
      "| Fan  Temp  Perf  Pwr:Usage/Cap|         Memory-Usage | GPU-Util  Compute M. |\n",
      "|                               |                      |               MIG M. |\n",
      "|===============================+======================+======================|\n",
      "|   0  A100-SXM4-40GB      On   | 00000000:0F:00.0 Off |                    0 |\n",
      "| N/A   30C    P0    57W / 400W |   1996MiB / 40537MiB |      0%      Default |\n",
      "|                               |                      |             Disabled |\n",
      "+-------------------------------+----------------------+----------------------+\n",
      "                                                                               \n",
      "+-----------------------------------------------------------------------------+\n",
      "| Processes:                                                                  |\n",
      "|  GPU   GI   CI        PID   Type   Process name                  GPU Memory |\n",
      "|        ID   ID                                                   Usage      |\n",
      "|=============================================================================|\n",
      "+-----------------------------------------------------------------------------+\n"
     ]
    }
   ],
   "source": [
    "!nvidia-smi"
   ]
  },
  {
   "cell_type": "code",
   "execution_count": null,
   "id": "bac21c26",
   "metadata": {},
   "outputs": [],
   "source": []
  }
 ],
 "metadata": {
  "kernelspec": {
   "display_name": "Python [conda env:.conda-bee_38]",
   "language": "python",
   "name": "conda-env-.conda-bee_38-py"
  },
  "language_info": {
   "codemirror_mode": {
    "name": "ipython",
    "version": 3
   },
   "file_extension": ".py",
   "mimetype": "text/x-python",
   "name": "python",
   "nbconvert_exporter": "python",
   "pygments_lexer": "ipython3",
   "version": "3.8.12"
  }
 },
 "nbformat": 4,
 "nbformat_minor": 5
}
