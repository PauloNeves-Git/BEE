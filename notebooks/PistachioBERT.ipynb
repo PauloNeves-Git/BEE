{
 "cells": [
  {
   "cell_type": "markdown",
   "id": "72e89612",
   "metadata": {},
   "source": [
    "## Notebook to reproduce results from Pistachio BERT"
   ]
  },
  {
   "cell_type": "code",
   "execution_count": 2,
   "id": "ed53e049",
   "metadata": {},
   "outputs": [],
   "source": [
    "# To reproduce Pistahcio BERT results in notebook use environment defined in https://github.com/rxn4chemistry/rxnfp\n",
    "\n",
    "import numpy as np\n",
    "from sklearn.metrics import r2_score\n",
    "import matplotlib.pyplot as plt\n",
    "import os  \n",
    "import json\n",
    "import sys\n",
    "from rdkit.Chem import MolFromSmiles, MolToSmiles\n",
    "\n",
    "from datetime import datetime\n",
    "dateparse = lambda x: datetime.strptime(x, '%Y-%m-%d %H:%M:%S')\n",
    "\n",
    "import torch\n",
    "import pkg_resources\n",
    "import pandas as pd\n",
    "import math\n",
    "\n",
    "from rxnfp.models import SmilesClassificationModel\n",
    "\n",
    "sys.path.insert(0, \"../../BEE\")\n",
    "sys.path.insert(0, \"../reaction_transformers\")\n",
    "from reaction_transformers.tokenization import smi_tokenizer\n",
    "\n",
    "from reaction_transformers.input_output_processing import split_data, convert_strlst2lstfloat, replace_sep, add_photocat_react_ids, nested_cross_validation, \\\n",
    "                                                          get_folder_names, sort_reactants, add_canonical_rxn_smiles, moving_avg, epochs_calc_r2, r2score_stats\n",
    "\n",
    "from tqdm.notebook import tqdm\n",
    "tqdm.pandas()"
   ]
  },
  {
   "cell_type": "code",
   "execution_count": 3,
   "id": "bb41b1b2",
   "metadata": {},
   "outputs": [],
   "source": [
    "#id to role is not necessary for use of the pistachio pretrained model\n",
    "#in this notebook it is used indirectly to identify entities in the reaction smiles so canonicalization can be applied at entity level\n",
    "#traditional canonicalization methods can be used instead\n",
    "ID2ROLE = {\"1\": \"aryl_halides\", \"2\":\"solvent\", \"3\": \"photocalysts\", \"4\": \"piperidines\", \"5\":\"catalysts\", \"6\":\"ni_catalysts\"}"
   ]
  },
  {
   "cell_type": "code",
   "execution_count": 4,
   "id": "ea98bb3a",
   "metadata": {},
   "outputs": [],
   "source": [
    "def inference_record_performance(file_name, base_model, col_input, epoch_offset = 20, final_epoch = 340, stride = 20, split_num = 5):\n",
    "\n",
    "    r2_scores_all = {}\n",
    "    max_r2_scores_all = {}\n",
    "    for i in range(split_num):\n",
    "        photoredox_merck_5_splitted = split_data(df_photoredox_merck, math.ceil(len(df_photoredox_merck)/split_num))\n",
    "        val_test = photoredox_merck_5_splitted.pop(i)\n",
    "        test = val_test.iloc[:int(len(val_test)/2)]\n",
    "\n",
    "        model_dir = f\"../results/{base_model}_{file_name}_ncv_{i}\"\n",
    "        r2_scores = epochs_calc_r2(test[col_input], model_dir, checkpoit_multiple=22, epoch_offset = epoch_offset, final_epoch = final_epoch, stride = stride)\n",
    "        r2_scores_all[f\"ncv_{i}\"] = r2_scores\n",
    "        max_r2_scores_all[f\"ncv_{i}\"] = max(moving_avg(list(r2_scores.values()), sig_range = 3))\n",
    "\n",
    "    data = [max_r2_scores_all, r2_scores_all]\n",
    "    data_json = json.dumps(data, indent=2)\n",
    "\n",
    "    with open(f\"../results/{base_model}_{file_name}_ncv_results.json\", \"w\") as outfile:\n",
    "        outfile.write(data_json)\n",
    "    \n",
    "    print(f\"Finished generating and saving JSON result files to /results/{base_model}_{file_name}_ncv_results.json\")\n",
    "    \n",
    "def train_save(df_photoredox, split_num, model_path, file_name, model_args, col_input):\n",
    "    \n",
    "    for i in range(split_num):\n",
    "        photoredox_splits = split_data(df_photoredox, math.ceil(len(df_photoredox)/split_num))\n",
    "        val_test = photoredox_splits.pop(i)\n",
    "        train = pd.concat(photoredox_splits)\n",
    "        val = val_test.iloc[int(len(val_test)/2):]\n",
    "        test = val_test.iloc[:int(len(val_test)/2)]\n",
    "\n",
    "        output_dir = f\"fine_tuned_models/{base_model}_{file_name}_ncv_{i}\"\n",
    "\n",
    "        pretrained_bert = SmilesClassificationModel(\"bert\", model_path, num_labels=1, args=model_args, use_cuda=torch.cuda.is_available())\n",
    "        pretrained_bert.train_model(train[col_input], output_dir=output_dir, show_running_loss=False, eval_df=val[col_input])\n",
    "        \n",
    "    print(f\"Finished training and saving models to fine_tuned_models/{base_model}_{file_name}_ncv\")\n",
    "    \n",
    "    \n",
    "def load_prepare_data(data_path):\n",
    "    \"\"\"\n",
    "    Load .csv into dataframe and process data into ML ready format\n",
    "    \"\"\"\n",
    "    df_photoredox = pd.read_csv(data_path, index_col = 0)\n",
    "    \n",
    "    #Reactant ids will be used for SMILES standardization purposes.\n",
    "    df_photoredox[\"reactant_ids_order\"] = df_photoredox.progress_apply(lambda row: convert_strlst2lstfloat(row[\"reactant_ids_order\"]), axis = 1)\n",
    "    df_photoredox[\"reactant_ids_order\"] = df_photoredox.progress_apply(lambda row: add_photocat_react_ids(row, ID2ROLE), axis = 1)\n",
    "\n",
    "    df_photoredox[\"reaction_smiles_sep\"] = df_photoredox.apply(lambda row: replace_sep(row), axis = 1)\n",
    "    \n",
    "    df_photoredox[\"labels\"] = df_photoredox['uplcms'].apply(lambda uplcms: uplcms/100)\n",
    "    df_photoredox = add_canonical_rxn_smiles(df_photoredox)\n",
    "    df_photoredox.rename(columns={\"rxns_canonical_rdkit\":\"text\"}, inplace = True)\n",
    "    df_photoredox = df_photoredox.sample(frac = 1, random_state = 42)\n",
    "\n",
    "    return df_photoredox"
   ]
  },
  {
   "cell_type": "code",
   "execution_count": 146,
   "id": "f21152b2",
   "metadata": {},
   "outputs": [
    {
     "data": {
      "application/vnd.jupyter.widget-view+json": {
       "model_id": "690909537e894923ac1bf3944547c616",
       "version_major": 2,
       "version_minor": 0
      },
      "text/plain": [
       "  0%|          | 0/1728 [00:00<?, ?it/s]"
      ]
     },
     "metadata": {},
     "output_type": "display_data"
    },
    {
     "data": {
      "application/vnd.jupyter.widget-view+json": {
       "model_id": "7b64df18f26445bd851e87e058c0152a",
       "version_major": 2,
       "version_minor": 0
      },
      "text/plain": [
       "  0%|          | 0/1728 [00:00<?, ?it/s]"
      ]
     },
     "metadata": {},
     "output_type": "display_data"
    },
    {
     "data": {
      "application/vnd.jupyter.widget-view+json": {
       "model_id": "1590c64944f54ad69f5668b244ab5b2b",
       "version_major": 2,
       "version_minor": 0
      },
      "text/plain": [
       "  0%|          | 0/1728 [00:00<?, ?it/s]"
      ]
     },
     "metadata": {},
     "output_type": "display_data"
    },
    {
     "data": {
      "application/vnd.jupyter.widget-view+json": {
       "model_id": "d49e64dc80c74c8992fcbdf9c9d3f9d9",
       "version_major": 2,
       "version_minor": 0
      },
      "text/plain": [
       "  0%|          | 0/1728 [00:00<?, ?it/s]"
      ]
     },
     "metadata": {},
     "output_type": "display_data"
    },
    {
     "data": {
      "application/vnd.jupyter.widget-view+json": {
       "model_id": "f05fa345bf9e4cb38451ace312436af8",
       "version_major": 2,
       "version_minor": 0
      },
      "text/plain": [
       "  0%|          | 0/1728 [00:00<?, ?it/s]"
      ]
     },
     "metadata": {},
     "output_type": "display_data"
    },
    {
     "name": "stderr",
     "output_type": "stream",
     "text": [
      "Setting 'max_len_single_sentence' is now deprecated. This value is automatically set up.\n",
      "Setting 'max_len_sentences_pair' is now deprecated. This value is automatically set up.\n"
     ]
    },
    {
     "data": {
      "application/vnd.jupyter.widget-view+json": {
       "model_id": "8cedd2c82fe24da39e87472e6f977568",
       "version_major": 2,
       "version_minor": 0
      },
      "text/plain": [
       "  0%|          | 0/1382 [00:00<?, ?it/s]"
      ]
     },
     "metadata": {},
     "output_type": "display_data"
    },
    {
     "data": {
      "application/vnd.jupyter.widget-view+json": {
       "model_id": "df5a8bcc429e4e9cb6facdd5c9ad23f1",
       "version_major": 2,
       "version_minor": 0
      },
      "text/plain": [
       "Epoch:   0%|          | 0/340 [00:00<?, ?it/s]"
      ]
     },
     "metadata": {},
     "output_type": "display_data"
    },
    {
     "name": "stderr",
     "output_type": "stream",
     "text": [
      "/home/pneves6/.conda/envs/yields/lib/python3.6/site-packages/torch/optim/lr_scheduler.py:200: UserWarning: Please also save or load the state of the optimzer when saving or loading the scheduler.\n",
      "  warnings.warn(SAVE_STATE_WARNING, UserWarning)\n",
      "/home/pneves6/.conda/envs/yields/lib/python3.6/site-packages/torch/optim/lr_scheduler.py:231: UserWarning: To get the last learning rate computed by the scheduler, please use `get_last_lr()`.\n",
      "  warnings.warn(\"To get the last learning rate computed by the scheduler, \"\n",
      "Setting 'max_len_single_sentence' is now deprecated. This value is automatically set up.\n",
      "Setting 'max_len_sentences_pair' is now deprecated. This value is automatically set up.\n"
     ]
    },
    {
     "data": {
      "application/vnd.jupyter.widget-view+json": {
       "model_id": "9c8c82d9fb0f49dd93ff30722cd44a9d",
       "version_major": 2,
       "version_minor": 0
      },
      "text/plain": [
       "  0%|          | 0/1382 [00:00<?, ?it/s]"
      ]
     },
     "metadata": {},
     "output_type": "display_data"
    },
    {
     "data": {
      "application/vnd.jupyter.widget-view+json": {
       "model_id": "8d882cbfecdb4ba78c65be90130675aa",
       "version_major": 2,
       "version_minor": 0
      },
      "text/plain": [
       "Epoch:   0%|          | 0/340 [00:00<?, ?it/s]"
      ]
     },
     "metadata": {},
     "output_type": "display_data"
    },
    {
     "name": "stderr",
     "output_type": "stream",
     "text": [
      "Setting 'max_len_single_sentence' is now deprecated. This value is automatically set up.\n",
      "Setting 'max_len_sentences_pair' is now deprecated. This value is automatically set up.\n"
     ]
    },
    {
     "data": {
      "application/vnd.jupyter.widget-view+json": {
       "model_id": "1e793d24e7974125bcd00998bfb63f9a",
       "version_major": 2,
       "version_minor": 0
      },
      "text/plain": [
       "  0%|          | 0/1382 [00:00<?, ?it/s]"
      ]
     },
     "metadata": {},
     "output_type": "display_data"
    },
    {
     "data": {
      "application/vnd.jupyter.widget-view+json": {
       "model_id": "329eed2102b647518bdfcc05b5880e89",
       "version_major": 2,
       "version_minor": 0
      },
      "text/plain": [
       "Epoch:   0%|          | 0/340 [00:00<?, ?it/s]"
      ]
     },
     "metadata": {},
     "output_type": "display_data"
    },
    {
     "name": "stderr",
     "output_type": "stream",
     "text": [
      "Setting 'max_len_single_sentence' is now deprecated. This value is automatically set up.\n",
      "Setting 'max_len_sentences_pair' is now deprecated. This value is automatically set up.\n"
     ]
    },
    {
     "data": {
      "application/vnd.jupyter.widget-view+json": {
       "model_id": "1d00fdbc1cf2449ab6da7862c02030b5",
       "version_major": 2,
       "version_minor": 0
      },
      "text/plain": [
       "  0%|          | 0/1382 [00:00<?, ?it/s]"
      ]
     },
     "metadata": {},
     "output_type": "display_data"
    },
    {
     "data": {
      "application/vnd.jupyter.widget-view+json": {
       "model_id": "d864237b5f18408a80ab2fb6870d3c02",
       "version_major": 2,
       "version_minor": 0
      },
      "text/plain": [
       "Epoch:   0%|          | 0/340 [00:00<?, ?it/s]"
      ]
     },
     "metadata": {},
     "output_type": "display_data"
    },
    {
     "name": "stderr",
     "output_type": "stream",
     "text": [
      "Setting 'max_len_single_sentence' is now deprecated. This value is automatically set up.\n",
      "Setting 'max_len_sentences_pair' is now deprecated. This value is automatically set up.\n"
     ]
    },
    {
     "data": {
      "application/vnd.jupyter.widget-view+json": {
       "model_id": "179bf6d7c1c54b29b93c5b8a77edf949",
       "version_major": 2,
       "version_minor": 0
      },
      "text/plain": [
       "  0%|          | 0/1384 [00:00<?, ?it/s]"
      ]
     },
     "metadata": {},
     "output_type": "display_data"
    },
    {
     "data": {
      "application/vnd.jupyter.widget-view+json": {
       "model_id": "5287041297134c299a8a1933b33dc5dc",
       "version_major": 2,
       "version_minor": 0
      },
      "text/plain": [
       "Epoch:   0%|          | 0/340 [00:00<?, ?it/s]"
      ]
     },
     "metadata": {},
     "output_type": "display_data"
    }
   ],
   "source": [
    "df_photoredox = load_prepare_data(data_path = '../data/\"Photoredox_rxns.csv\"')\n",
    "\n",
    "base_model = \"pretrained\"\n",
    "model_path = pkg_resources.resource_filename(\"rxnfp\", f\"models/transformers/bert_{base_model}\")\n",
    "file_name = \"photoredox_1700\"\n",
    "split_num = 5\n",
    "dropout = 0.75\n",
    "l_r = 0.00001\n",
    "model_args = { 'num_train_epochs': 100, 'overwrite_output_dir': True, #\"save_epochs\": 20,\n",
    "                'learning_rate': l_r, 'gradient_accumulation_steps': 1,\n",
    "                'regression': True, \"num_labels\":1, \"fp16\": False,\n",
    "                \"evaluate_during_training\": True, 'manual_seed': 42,\n",
    "                \"max_seq_length\": 350, \"train_batch_size\": 64,\"warmup_ratio\": 0.00,\n",
    "                \"config\" : {'hidden_dropout_prob': dropout}}\n",
    "col_input = [\"text\",\"labels\"]\n",
    "\n",
    "train_save(df_photoredox, split_num, model_path, file_name, model_args, col_input)"
   ]
  },
  {
   "cell_type": "code",
   "execution_count": null,
   "id": "4e2ad3fc",
   "metadata": {},
   "outputs": [],
   "source": [
    "file_name = \"photoredox_1700_start\"\n",
    "model_args = { 'num_train_epochs': 18, 'overwrite_output_dir': True, #\"save_epochs\": 2,\n",
    "                'learning_rate': l_r, 'gradient_accumulation_steps': 1,\n",
    "                'regression': True, \"num_labels\":1, \"fp16\": False,\n",
    "                \"evaluate_during_training\": True, 'manual_seed': 42,\n",
    "                \"max_seq_length\": 350, \"train_batch_size\": 64,\"warmup_ratio\": 0.00,\n",
    "                \"config\" : {'hidden_dropout_prob': dropout}}\n",
    "\n",
    "train_save(df_photoredox, split_num, model_path, file_name, model_args, col_input)"
   ]
  },
  {
   "cell_type": "code",
   "execution_count": null,
   "id": "3bb53fb4",
   "metadata": {},
   "outputs": [],
   "source": [
    "df_photoredox_merck = load_prepare_data(data_path = '../data)\n",
    "file_name = \"photoredox_1700\"\n",
    "epoch_offset = 20; final_epoch = 120; stride = 20, split_num = 5                                        \n",
    "inference_record_performance(file_name, base_model, col_input, epoch_offset, final_epoch, stride)"
   ]
  },
  {
   "cell_type": "code",
   "execution_count": null,
   "id": "c09ffcaa",
   "metadata": {},
   "outputs": [],
   "source": [
    "#df_photoredox_merck = load_prepare_data(data_path = '../data)\n",
    "file_name = \"photoredox_1700_start\"\n",
    "epoch_offset = 0; final_epoch = 18; stride = 2, split_num = 5                                        \n",
    "inference_record_performance(file_name, base_model, col_input, epoch_offset, final_epoch, stride)"
   ]
  },
  {
   "cell_type": "code",
   "execution_count": 20,
   "id": "fbee9fb9",
   "metadata": {},
   "outputs": [
    {
     "data": {
      "image/png": "[encoded data removed]",
      "text/plain": [
       "<Figure size 432x288 with 1 Axes>"
      ]
     },
     "metadata": {
      "needs_background": "light"
     },
     "output_type": "display_data"
    }
   ],
   "source": [
    "with open (f\"results/pretrained_photoredox_1700_ncv_start_results.json\", \"r\") as json_data:\n",
    "    r2_scores_start_all = json.loads(json_data.read())\n",
    "\n",
    "with open (f\"results/pretrained_photoredox_1700_ncv_results.json\", \"r\") as json_data:\n",
    "    r2_scores_all = json.loads(json_data.read())\n",
    "\n",
    "r2_start_all_avg, r2_start_all_min, r2_start_all_max, r2_start_all_std = r2score_stats(r2_scores_start_all[1])    \n",
    "r2_all_avg, r2_all_min, r2_all_max, r2_all_std = r2score_stats(r2_scores_all[1])\n",
    "\n",
    "r2_all_avg = r2_start_all_avg+r2_all_avg; r2_all_min = r2_start_all_min+r2_all_min; r2_all_max = r2_start_all_max+r2_all_max;r2_all_std = r2_start_all_std + r2_all_std\n",
    "\n",
    "epochs_start = [int(ep.split(\"_\")[1]) for ep in list(r2_scores_start_all[1][\"ncv_0\"].keys())]\n",
    "epochs = [int(ep.split(\"_\")[1]) for ep in list(r2_scores_all[1][\"ncv_0\"].keys())]\n",
    "epochs = epochs_start+epochs\n",
    "\n",
    "plt.plot(epochs[:14], r2_all_avg[:14], marker='v', color='orange', label = \"Pistachio BERT\")\n",
    "plt.fill_between(epochs[:14], [i-j for i,j in zip(r2_all_avg[:14], r2_all_std[:14])], [i+j for i,j in zip(r2_all_avg[:14],r2_all_std[:14])], color='orange', alpha=0.2)\n",
    "plt.xlim(-5,110)\n",
    "plt.xlabel(\"Epochs\")\n",
    "plt.ylabel(\"Average r2 score\")\n",
    "plt.legend(loc = 'lower right')\n",
    "plt.show()"
   ]
  },
  {
   "cell_type": "code",
   "execution_count": null,
   "id": "5a2731b3",
   "metadata": {},
   "outputs": [],
   "source": []
  }
 ],
 "metadata": {
  "kernelspec": {
   "display_name": "Python [conda env:.conda-yields]",
   "language": "python",
   "name": "conda-env-.conda-yields-py"
  },
  "language_info": {
   "codemirror_mode": {
    "name": "ipython",
    "version": 3
   },
   "file_extension": ".py",
   "mimetype": "text/x-python",
   "name": "python",
   "nbconvert_exporter": "python",
   "pygments_lexer": "ipython3",
   "version": "3.6.12"
  }
 },
 "nbformat": 4,
 "nbformat_minor": 5
}
