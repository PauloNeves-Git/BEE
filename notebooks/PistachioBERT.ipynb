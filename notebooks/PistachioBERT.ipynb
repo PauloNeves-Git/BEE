{
 "cells": [
  {
   "cell_type": "markdown",
   "id": "938f0b3e",
   "metadata": {},
   "source": [
    "## Notebook to reproduce results from Pistachio BERT"
   ]
  },
  {
   "cell_type": "code",
   "execution_count": 7,
   "id": "effff544",
   "metadata": {},
   "outputs": [],
   "source": [
    "# To reproduce Pistahcio BERT results in notebook use environment defined in https://github.com/rxn4chemistry/rxnfp\n",
    "\n",
    "import numpy as np\n",
    "from sklearn.metrics import r2_score\n",
    "import matplotlib.pyplot as plt\n",
    "import os  \n",
    "import json\n",
    "import sys\n",
    "from rdkit.Chem import MolFromSmiles, MolToSmiles\n",
    "\n",
    "from datetime import datetime\n",
    "dateparse = lambda x: datetime.strptime(x, '%Y-%m-%d %H:%M:%S')\n",
    "\n",
    "import torch\n",
    "import pkg_resources\n",
    "import pandas as pd\n",
    "import math\n",
    "\n",
    "from rxnfp.models import SmilesClassificationModel\n",
    "\n",
    "from tqdm.notebook import tqdm\n",
    "tqdm.pandas()\n",
    "\n",
    "def get_folder_names(dir_name, num):\n",
    "    folder_names = {}\n",
    "    epoch_list = [i for i in range(1,num)]\n",
    "    for folder in os.listdir(dir_name):\n",
    "        try:\n",
    "            if int(folder.split(\"-\")[-1]) in epoch_list:\n",
    "                folder_names[int(folder.split(\"-\")[-1])] = folder\n",
    "        except:\n",
    "            pass\n",
    "    return folder_names\n",
    "\n",
    "def smi_tokenizer(smi):\n",
    "    \"\"\"\n",
    "    Tokenize a SMILES molecule or reaction\n",
    "    \"\"\"\n",
    "    import re\n",
    "    pattern =  \"(\\%\\([0-9]{3}\\)|\\[[^\\]]+]|Br?|Cl?|N|O|S|P|F|I|b|c|n|o|s|p|\\||\\(|\\)|\\.|\\^|=|#|-|\\+|\\\\|\\/|:|~|@|\\?|>>?|\\*|\\$|\\%[0-9]{2}|[0-9])\" #=O?|\n",
    "    regex = re.compile(pattern)\n",
    "    tokens = [token for token in regex.findall(smi)]\n",
    "    assert smi == ''.join(tokens)\n",
    "    return ' '.join(tokens)\n",
    "\n",
    "def split_data(df, n):\n",
    "    \"\"\"\n",
    "    Partitions a dataframe into n equal sized blocks, outputs a list with respective blocks\n",
    "    \"\"\"\n",
    "    block_size = math.ceil(len(df)/n)\n",
    "    return [df.iloc[i:i + block_size] for i in range(0, len(df), block_size)]\n",
    "\n",
    "\n",
    "def convert_stringlist2listfloat(stringlist):\n",
    "    \"\"\"\n",
    "    Function to use when after loading a list in a dataframe ast.literal_eval() is not capable of processing syntax of recorded list\n",
    "    \"\"\"\n",
    "    equivalents_float = []\n",
    "    equivalents_str2list = stringlist.split(\",\")\n",
    "    try:\n",
    "        for i, element in enumerate(equivalents_str2list):\n",
    "            if i == 0 and element[1:] == \"nan\":\n",
    "                equivalents_float.append(-10)\n",
    "            elif i == 0 and element[1:] != \"nan\":\n",
    "                equivalents_float.append(float(element[1:]))\n",
    "            elif i == len(equivalents_str2list)-1 and element[1:] == \"nan]\":\n",
    "                equivalents_float.append(-10)\n",
    "            elif i == len(equivalents_str2list)-1 and element[1:] != \"nan]\":\n",
    "                equivalents_float.append(float(element[1:-1]))\n",
    "            elif element[1:] == \"nan\":\n",
    "                equivalents_float.append(-10)\n",
    "            elif element[1:] != \"nan\":\n",
    "                equivalents_float.append(float(element[1:]))\n",
    "    except:\n",
    "        equivalents_float = np.nan\n",
    "    return equivalents_float \n",
    "\n",
    "def add_photocat_react_ids(row):\n",
    "    reactant_ids_order_size = len(row.reactant_ids_order)\n",
    "    reactant_ids_order = row.reactant_ids_order\n",
    "    if 3 not in row.reactant_ids_order:\n",
    "        for i in range(row.reaction_smiles_std.count(\".\")+1- reactant_ids_order_size):\n",
    "            reactant_ids_order.append(3+i*0.1)\n",
    "    return reactant_ids_order\n",
    "\n",
    "\n",
    "def replace_sep(row):\n",
    "    \"\"\"\n",
    "    Replace token . used to indicate an ionic bond by ^ to differentiate from the token . used to separate molecules\n",
    "    \"\"\"\n",
    "    separators = []\n",
    "    ordered_reactant_ids = row[\"reactant_ids_order\"]\n",
    "    for i in range(len(ordered_reactant_ids)-1):\n",
    "        if int(ordered_reactant_ids[i]) == int(ordered_reactant_ids[i+1]):\n",
    "            separators.append(\"^\")\n",
    "        else:\n",
    "            separators.append(\".\")\n",
    "        \n",
    "    smiles_sep = [row[\"reaction_smiles_std\"].split(\".\")[0]]\n",
    "    for mol, sep in zip(row[\"reaction_smiles_std\"].split(\".\")[1:], separators):\n",
    "        smiles_sep.append(sep)\n",
    "        smiles_sep.append(mol)       \n",
    "        \n",
    "    return ''.join(smiles_sep)\n",
    "\n",
    "def combine_smilessep_uniqprod(row):\n",
    "    return row.smiles_sep.split(\">>\")[0]+\">>\"+row.reaction_smiles.split(\">>\")[1]\n",
    "\n",
    "def add_photocat_react_ids(row):\n",
    "    reactant_ids_order_size = len(row.reactant_ids_order)\n",
    "    reactant_ids_order = row.reactant_ids_order\n",
    "    if 3 not in row.reactant_ids_order:\n",
    "        for i in range(row.reaction_smiles_std.count(\".\")+1- reactant_ids_order_size):\n",
    "            reactant_ids_order.append(3+i*0.1)\n",
    "    return reactant_ids_order\n",
    "\n",
    "def sort_reactants(lista):\n",
    "  \n",
    "    list_size=[]   \n",
    "    for ele in lista:\n",
    "         list_size.append(len(ele))     \n",
    "    sortedindex = np.argsort(list_size)  \n",
    "    listb = [\" \" for i in range(len(lista))]  \n",
    "    \n",
    "    for i in range(len(lista)):    \n",
    "        listb[i] = lista[sortedindex[i]]     \n",
    "                                          \n",
    "    return listb\n",
    "\n",
    "def add_canonical_rxn_smiles(df_photoredox_merck):\n",
    "\n",
    "    #Get Canonical SMILES with rdkit\n",
    "    reactions_standardized = []\n",
    "\n",
    "    for rxn_separated in df_photoredox_merck[\"reaction_smiles_sep\"].values:\n",
    "        rxn_separated = rxn_separated.replace(\".\",\"|\")\n",
    "        rxn_separated = rxn_separated.replace(\"^\",\".\")\n",
    "        reactants = rxn_separated.split(\">>\")[0]\n",
    "        products = rxn_separated.split(\">>\")[1]\n",
    "        reactants_canonical = []\n",
    "        products_canonical = []\n",
    "\n",
    "        try:\n",
    "            for reactant in reactants.split(\"|\"):\n",
    "                reactants_canonical.append(MolToSmiles(MolFromSmiles(reactant)))\n",
    "\n",
    "            reactants_canonical_sorted = sort_reactants(reactants_canonical)\n",
    "            reactants_canonical_sorted = \".\".join(reactants_canonical_sorted)\n",
    "\n",
    "            products_canonical = MolToSmiles(MolFromSmiles(products))\n",
    "\n",
    "            rxn_stdd = reactants_canonical_sorted + \">>\" + products_canonical\n",
    "        except:\n",
    "            rxn_stdd = \"invalid_structure\"\n",
    "\n",
    "        reactions_standardized.append(rxn_stdd)\n",
    "\n",
    "    df_photoredox_merck[\"rxns_canonical_rdkit\"] = reactions_standardized\n",
    "    \n",
    "    return df_photoredox_merck\n",
    "\n",
    "\n",
    "def epochs_calc_r2(df_test, model_dir, checkpoit_multiple=22, epoch_offset = 0, final_epoch = 200, stride = 10):\n",
    "    r2_scores = []\n",
    "    epochs = []\n",
    "    for i in range(epoch_offset, final_epoch+stride, stride):\n",
    "        model_path = model_dir + f\"/checkpoint-{i*checkpoit_multiple}-epoch-{i}\"\n",
    "        trained_yield_bert = SmilesClassificationModel('bert', model_path, num_labels=1, args={\"regression\": True}, use_cuda=torch.cuda.is_available())\n",
    "        if \"equivalents\" in df_test.columns:\n",
    "            print(\"Equivalents used.\")\n",
    "            lcms_predicted = trained_yield_bert.predict(df_test.text.values, equivalents = df_test.equivalents.values)[0]\n",
    "        else:\n",
    "            lcms_predicted = trained_yield_bert.predict(df_test.text.values)[0]\n",
    "\n",
    "        lcms_true = df_test.labels.values\n",
    "        epochs.append(f\"epoch_{i}\")\n",
    "        r2_scores.append(r2_score(lcms_true, lcms_predicted))\n",
    "    r2_scores = {k:v for k,v in zip(epochs, r2_scores)}\n",
    "    return r2_scores\n",
    "\n",
    "\n",
    "def inference_record_performance(file_name, col_input, epoch_offset = 20, final_epoch = 340, stride = 20, split_num = 5):\n",
    "\n",
    "    r2_scores_all = {}\n",
    "    max_r2_scores_all = {}\n",
    "    for i in range(split_num):\n",
    "        photoredox_merck_5_splitted = split_data(df_photoredox_merck, math.ceil(len(df_photoredox_merck)/split_num))\n",
    "        val_test = photoredox_merck_5_splitted.pop(i)\n",
    "        test = val_test.iloc[:int(len(val_test)/2)]\n",
    "\n",
    "        model_dir = f\"../results/{base_model}_{file_name}_ncv_{i}\"\n",
    "        r2_scores = epochs_calc_r2(test[col_input], model_dir, checkpoit_multiple=22, epoch_offset = epoch_offset, final_epoch = final_epoch, stride = stride)\n",
    "        r2_scores_all[f\"ncv_{i}\"] = r2_scores\n",
    "        max_r2_scores_all[f\"ncv_{i}\"] = max(moving_avg(list(r2_scores.values()), sig_range = 3))\n",
    "\n",
    "    data = [max_r2_scores_all, r2_scores_all]\n",
    "    data_json = json.dumps(data, indent=2)\n",
    "\n",
    "    with open(f\"../results/{base_model}_{file_name}_ncv_results.json\", \"w\") as outfile:\n",
    "        outfile.write(data_json)\n",
    "    \n",
    "    print(f\"Finished generating and saving JSON result files to /results/{base_model}_{file_name}_ncv_results.json\")\n",
    "    \n",
    "def train_save(df_photoredox, split_num, model_path, file_name, model_args, col_input):\n",
    "    \n",
    "    for i in range(split_num):\n",
    "        photoredox_splits = split_data(df_photoredox, math.ceil(len(df_photoredox)/split_num))\n",
    "        val_test = photoredox_splits.pop(i)\n",
    "        train = pd.concat(photoredox_splits)\n",
    "        val = val_test.iloc[int(len(val_test)/2):]\n",
    "        test = val_test.iloc[:int(len(val_test)/2)]\n",
    "\n",
    "        output_dir = f\"fine_tuned_models/{base_model}_{file_name}_ncv_{i}\"\n",
    "\n",
    "        pretrained_bert = SmilesClassificationModel(\"bert\", model_path, num_labels=1, args=model_args, use_cuda=torch.cuda.is_available())\n",
    "        pretrained_bert.train_model(train[col_input], output_dir=output_dir, show_running_loss=False, eval_df=val[col_input])\n",
    "        \n",
    "    print(f\"Finished training and saving models to fine_tuned_models/{base_model}_{file_name}_ncv\")\n",
    "    \n",
    "    \n",
    "def load_prepare_data(data_path):\n",
    "    \"\"\"\n",
    "    Load .csv into dataframe and process data into ML ready format\n",
    "    \"\"\"\n",
    "    df_photoredox = pd.read_csv(data_path + \"/Photoredox_rxns.csv\", index_col = 0)\n",
    "    \n",
    "    #Adding a high moles value to solvent which makes it so resulting class wont overlap with other enrichment embedding classes \n",
    "    df_photoredox[\"solvent_moles\"] = 1000\n",
    "\n",
    "    #notebook expects data to be standardized (rdkit canonical sorted) with reactant_ids ready\n",
    "    df_photoredox[\"reactant_ids_order\"] = df_photoredox.progress_apply(lambda row: convert_stringlist2listfloat(row[\"reactant_ids_order\"]), axis = 1)\n",
    "    df_photoredox[\"reactant_ids_order\"] = df_photoredox.progress_apply(lambda row: add_photocat_react_ids(row), axis = 1)\n",
    "    df_photoredox[\"reactant_moles\"] = df_photoredox.progress_apply(lambda row: convert_reactant_id_2_moles(row), axis = 1)\n",
    "\n",
    "    df_photoredox[\"enrichment_class\"] = df_photoredox.reactant_moles.progress_apply(lambda reactant_moles: CondIDEnc.convert_conditions2class(reactant_moles))\n",
    "\n",
    "    df_photoredox[\"reaction_smiles_sep\"] = df_photoredox.apply(lambda row: replace_sep(row), axis = 1)\n",
    "    df_photoredox[\"equivalents\"] = df_photoredox.progress_apply(lambda row: CondIDEnc.generate_equivalents_vector(row), axis = 1)\n",
    "    df_photoredox[\"equivalents_vector_size\"] = df_photoredox.equivalents.apply(lambda eqvs_vec: len(eqvs_vec))\n",
    "\n",
    "    #sanity check\n",
    "    df_photoredox[\"reaction_smiles_size\"] = df_photoredox[\"reaction_smiles_std\"].apply(lambda react_smiles: len(smi_tokenizer(react_smiles).split(\" \")))\n",
    "    assert df_photoredox['reaction_smiles_size'].equals(df_photoredox['equivalents_vector_size'])\n",
    "    \n",
    "    df_photoredox[\"labels\"] = df_photoredox['uplcms'].apply(lambda uplcms: uplcms/100)\n",
    "    df_photoredox = add_canonical_rxn_smiles(df_photoredox)\n",
    "    df_photoredox.rename(columns={\"rxns_canonical_rdkit\":\"text\"}, inplace = True)\n",
    "    df_photoredox = df_photoredox.sample(frac = 1, random_state = 42)\n",
    "\n",
    "    return df_photoredox"
   ]
  },
  {
   "cell_type": "code",
   "execution_count": null,
   "id": "566e26dd",
   "metadata": {},
   "outputs": [],
   "source": [
    "def get_enrichment_size(model_name):\n",
    "    config_path = f'../reaction_transformers/pretrained_models/transformers/bert_{model_name}/config.json'\n",
    "    with open(config_path) as f:\n",
    "        config = json.load(f)\n",
    "        return config['equivalents_vocab_size']\n",
    "\n",
    "class ConditionIDEncoder():\n",
    "    def __init__(self, model_name, thresholds, id2role):\n",
    "        \n",
    "        self.model_name = model_name\n",
    "        self.thresholds = thresholds\n",
    "        self.id2role = id2role\n",
    "        self.enriched_emb_vocab_size =  get_enrichment_size(model_name)\n",
    "        self.config_path = f'../reaction_transformers/pretrained_models/transformers/bert_{model_name}/config.json'\n",
    "        \n",
    "        assert len(thresholds) < self.enriched_emb_vocab_size-5 , \\\n",
    "        f\"The enrichment embedding size ({get_enrichment_size(model_name)}) is not large enough for the total number of ID classes ({len(thresholds)+5}). \\\n",
    "        Reduce the number of thresholds or train a precursor model set to have a larger enrichment vocab size.\"\n",
    "        \n",
    "    def convert_conditions2class(self, condition_data):\n",
    "        \"\"\"\n",
    "        Convert numerical/categorical condition data into enrichment class ids using user defined thresholds\n",
    "        \"\"\"\n",
    "        enrich_classes = np.digitize(condition_data, self.thresholds)\n",
    "        return list(map(lambda x:x+2, enrich_classes))\n",
    "    \n",
    "    def generate_equivalents_vector(self, row):\n",
    "        \"\"\"\n",
    "        Generate a vector of categorical enrichment class ids with as many elements as the numbers of tokens in the reaction\n",
    "        \"\"\"\n",
    "        reaction = row.reaction_smiles_sep\n",
    "        enrichment_class = row.enrichment_class\n",
    "        enrich_class_count = 0\n",
    "        equivalents_vector = []\n",
    "        for token in smi_tokenizer(reaction).split(\" \"):\n",
    "            if token != \" \":\n",
    "                if token == \">>\":\n",
    "                    equivalents_vector.append(self.enriched_emb_vocab_size-3)\n",
    "                    enrich_class_count = \"product\"\n",
    "                else:\n",
    "                    if enrich_class_count == \"product\":\n",
    "                        equivalents_vector.append(self.enriched_emb_vocab_size-2)\n",
    "                    else:\n",
    "                        if token == \".\" or token == \"^\":\n",
    "                            if token == \".\":\n",
    "                                equivalents_vector.append(self.enriched_emb_vocab_size-1)\n",
    "                            if token == \"^\":\n",
    "                                equivalents_vector.append(enrichment_class[enrich_class_count])\n",
    "                            enrich_class_count += 1\n",
    "                        else:\n",
    "                            equivalents_vector.append(enrichment_class[enrich_class_count])\n",
    "        return equivalents_vector\n",
    "    \n",
    "    def convert_reactant_id_2_moles(self, row):\n",
    "        \"\"\"\n",
    "        Convert reactant ids (not the enriched embedding ids) to their respective moles quantity for a particular reaction\n",
    "        \"\"\"\n",
    "        return [row[self.id2role[str(math.floor(r_id))+\"_moles\"]] for r_id in row.reactant_ids_order]"
   ]
  },
  {
   "cell_type": "code",
   "execution_count": 146,
   "id": "e44916b9",
   "metadata": {},
   "outputs": [
    {
     "data": {
      "application/vnd.jupyter.widget-view+json": {
       "model_id": "690909537e894923ac1bf3944547c616",
       "version_major": 2,
       "version_minor": 0
      },
      "text/plain": [
       "  0%|          | 0/1728 [00:00<?, ?it/s]"
      ]
     },
     "metadata": {},
     "output_type": "display_data"
    },
    {
     "data": {
      "application/vnd.jupyter.widget-view+json": {
       "model_id": "7b64df18f26445bd851e87e058c0152a",
       "version_major": 2,
       "version_minor": 0
      },
      "text/plain": [
       "  0%|          | 0/1728 [00:00<?, ?it/s]"
      ]
     },
     "metadata": {},
     "output_type": "display_data"
    },
    {
     "data": {
      "application/vnd.jupyter.widget-view+json": {
       "model_id": "1590c64944f54ad69f5668b244ab5b2b",
       "version_major": 2,
       "version_minor": 0
      },
      "text/plain": [
       "  0%|          | 0/1728 [00:00<?, ?it/s]"
      ]
     },
     "metadata": {},
     "output_type": "display_data"
    },
    {
     "data": {
      "application/vnd.jupyter.widget-view+json": {
       "model_id": "d49e64dc80c74c8992fcbdf9c9d3f9d9",
       "version_major": 2,
       "version_minor": 0
      },
      "text/plain": [
       "  0%|          | 0/1728 [00:00<?, ?it/s]"
      ]
     },
     "metadata": {},
     "output_type": "display_data"
    },
    {
     "data": {
      "application/vnd.jupyter.widget-view+json": {
       "model_id": "f05fa345bf9e4cb38451ace312436af8",
       "version_major": 2,
       "version_minor": 0
      },
      "text/plain": [
       "  0%|          | 0/1728 [00:00<?, ?it/s]"
      ]
     },
     "metadata": {},
     "output_type": "display_data"
    },
    {
     "name": "stderr",
     "output_type": "stream",
     "text": [
      "Setting 'max_len_single_sentence' is now deprecated. This value is automatically set up.\n",
      "Setting 'max_len_sentences_pair' is now deprecated. This value is automatically set up.\n"
     ]
    },
    {
     "data": {
      "application/vnd.jupyter.widget-view+json": {
       "model_id": "8cedd2c82fe24da39e87472e6f977568",
       "version_major": 2,
       "version_minor": 0
      },
      "text/plain": [
       "  0%|          | 0/1382 [00:00<?, ?it/s]"
      ]
     },
     "metadata": {},
     "output_type": "display_data"
    },
    {
     "data": {
      "application/vnd.jupyter.widget-view+json": {
       "model_id": "df5a8bcc429e4e9cb6facdd5c9ad23f1",
       "version_major": 2,
       "version_minor": 0
      },
      "text/plain": [
       "Epoch:   0%|          | 0/340 [00:00<?, ?it/s]"
      ]
     },
     "metadata": {},
     "output_type": "display_data"
    },
    {
     "name": "stderr",
     "output_type": "stream",
     "text": [
      "/home/pneves6/.conda/envs/yields/lib/python3.6/site-packages/torch/optim/lr_scheduler.py:200: UserWarning: Please also save or load the state of the optimzer when saving or loading the scheduler.\n",
      "  warnings.warn(SAVE_STATE_WARNING, UserWarning)\n",
      "/home/pneves6/.conda/envs/yields/lib/python3.6/site-packages/torch/optim/lr_scheduler.py:231: UserWarning: To get the last learning rate computed by the scheduler, please use `get_last_lr()`.\n",
      "  warnings.warn(\"To get the last learning rate computed by the scheduler, \"\n",
      "Setting 'max_len_single_sentence' is now deprecated. This value is automatically set up.\n",
      "Setting 'max_len_sentences_pair' is now deprecated. This value is automatically set up.\n"
     ]
    },
    {
     "data": {
      "application/vnd.jupyter.widget-view+json": {
       "model_id": "9c8c82d9fb0f49dd93ff30722cd44a9d",
       "version_major": 2,
       "version_minor": 0
      },
      "text/plain": [
       "  0%|          | 0/1382 [00:00<?, ?it/s]"
      ]
     },
     "metadata": {},
     "output_type": "display_data"
    },
    {
     "data": {
      "application/vnd.jupyter.widget-view+json": {
       "model_id": "8d882cbfecdb4ba78c65be90130675aa",
       "version_major": 2,
       "version_minor": 0
      },
      "text/plain": [
       "Epoch:   0%|          | 0/340 [00:00<?, ?it/s]"
      ]
     },
     "metadata": {},
     "output_type": "display_data"
    },
    {
     "name": "stderr",
     "output_type": "stream",
     "text": [
      "Setting 'max_len_single_sentence' is now deprecated. This value is automatically set up.\n",
      "Setting 'max_len_sentences_pair' is now deprecated. This value is automatically set up.\n"
     ]
    },
    {
     "data": {
      "application/vnd.jupyter.widget-view+json": {
       "model_id": "1e793d24e7974125bcd00998bfb63f9a",
       "version_major": 2,
       "version_minor": 0
      },
      "text/plain": [
       "  0%|          | 0/1382 [00:00<?, ?it/s]"
      ]
     },
     "metadata": {},
     "output_type": "display_data"
    },
    {
     "data": {
      "application/vnd.jupyter.widget-view+json": {
       "model_id": "329eed2102b647518bdfcc05b5880e89",
       "version_major": 2,
       "version_minor": 0
      },
      "text/plain": [
       "Epoch:   0%|          | 0/340 [00:00<?, ?it/s]"
      ]
     },
     "metadata": {},
     "output_type": "display_data"
    },
    {
     "name": "stderr",
     "output_type": "stream",
     "text": [
      "Setting 'max_len_single_sentence' is now deprecated. This value is automatically set up.\n",
      "Setting 'max_len_sentences_pair' is now deprecated. This value is automatically set up.\n"
     ]
    },
    {
     "data": {
      "application/vnd.jupyter.widget-view+json": {
       "model_id": "1d00fdbc1cf2449ab6da7862c02030b5",
       "version_major": 2,
       "version_minor": 0
      },
      "text/plain": [
       "  0%|          | 0/1382 [00:00<?, ?it/s]"
      ]
     },
     "metadata": {},
     "output_type": "display_data"
    },
    {
     "data": {
      "application/vnd.jupyter.widget-view+json": {
       "model_id": "d864237b5f18408a80ab2fb6870d3c02",
       "version_major": 2,
       "version_minor": 0
      },
      "text/plain": [
       "Epoch:   0%|          | 0/340 [00:00<?, ?it/s]"
      ]
     },
     "metadata": {},
     "output_type": "display_data"
    },
    {
     "name": "stderr",
     "output_type": "stream",
     "text": [
      "Setting 'max_len_single_sentence' is now deprecated. This value is automatically set up.\n",
      "Setting 'max_len_sentences_pair' is now deprecated. This value is automatically set up.\n"
     ]
    },
    {
     "data": {
      "application/vnd.jupyter.widget-view+json": {
       "model_id": "179bf6d7c1c54b29b93c5b8a77edf949",
       "version_major": 2,
       "version_minor": 0
      },
      "text/plain": [
       "  0%|          | 0/1384 [00:00<?, ?it/s]"
      ]
     },
     "metadata": {},
     "output_type": "display_data"
    },
    {
     "data": {
      "application/vnd.jupyter.widget-view+json": {
       "model_id": "5287041297134c299a8a1933b33dc5dc",
       "version_major": 2,
       "version_minor": 0
      },
      "text/plain": [
       "Epoch:   0%|          | 0/340 [00:00<?, ?it/s]"
      ]
     },
     "metadata": {},
     "output_type": "display_data"
    }
   ],
   "source": [
    "df_photoredox = load_prepare_data(data_path = '../data')\n",
    "\n",
    "base_model = \"pretrained\"\n",
    "model_path = pkg_resources.resource_filename(\"rxnfp\", f\"models/transformers/bert_{base_model}\")\n",
    "file_name = \"photoredox_1700\"\n",
    "split_num = 5\n",
    "dropout = 0.75\n",
    "l_r = 0.00001\n",
    "model_args = { 'num_train_epochs': 100, 'overwrite_output_dir': True, #\"save_epochs\": 20,\n",
    "                'learning_rate': l_r, 'gradient_accumulation_steps': 1,\n",
    "                'regression': True, \"num_labels\":1, \"fp16\": False,\n",
    "                \"evaluate_during_training\": True, 'manual_seed': 42,\n",
    "                \"max_seq_length\": 350, \"train_batch_size\": 64,\"warmup_ratio\": 0.00,\n",
    "                \"config\" : {'hidden_dropout_prob': dropout}}\n",
    "col_input = [\"text\",\"labels\"]\n",
    "\n",
    "train_save(df_photoredox, split_num, model_path, file_name, model_args, col_input)"
   ]
  },
  {
   "cell_type": "code",
   "execution_count": null,
   "id": "1d8ef05f",
   "metadata": {},
   "outputs": [],
   "source": [
    "file_name = \"photoredox_1700_start\"\n",
    "model_args = { 'num_train_epochs': 18, 'overwrite_output_dir': True, #\"save_epochs\": 2,\n",
    "                'learning_rate': l_r, 'gradient_accumulation_steps': 1,\n",
    "                'regression': True, \"num_labels\":1, \"fp16\": False,\n",
    "                \"evaluate_during_training\": True, 'manual_seed': 42,\n",
    "                \"max_seq_length\": 350, \"train_batch_size\": 64,\"warmup_ratio\": 0.00,\n",
    "                \"config\" : {'hidden_dropout_prob': dropout}}\n",
    "\n",
    "train_save(df_photoredox, split_num, model_path, file_name, model_args, col_input)"
   ]
  },
  {
   "cell_type": "code",
   "execution_count": null,
   "id": "0c1f19d6",
   "metadata": {},
   "outputs": [],
   "source": [
    "df_photoredox_merck = load_prepare_data(data_path = '../data)\n",
    "file_name = \"photoredox_1700\"\n",
    "epoch_offset = 20; final_epoch = 120; stride = 20, split_num = 5                                        \n",
    "inference_record_performance(file_name, col_input, epoch_offset, final_epoch, stride)"
   ]
  },
  {
   "cell_type": "code",
   "execution_count": null,
   "id": "848e5640",
   "metadata": {},
   "outputs": [],
   "source": [
    "#df_photoredox_merck = load_prepare_data(data_path = '../data)\n",
    "file_name = \"photoredox_1700_start\"\n",
    "epoch_offset = 0; final_epoch = 18; stride = 2, split_num = 5                                        \n",
    "inference_record_performance(file_name, col_input, epoch_offset, final_epoch, stride)"
   ]
  },
  {
   "cell_type": "code",
   "execution_count": 20,
   "id": "972bd4dc",
   "metadata": {},
   "outputs": [
    {
     "data": {
      "image/png": "[encoded data removed]",
      "text/plain": [
       "<Figure size 432x288 with 1 Axes>"
      ]
     },
     "metadata": {
      "needs_background": "light"
     },
     "output_type": "display_data"
    }
   ],
   "source": [
    "with open (f\"results/pretrained_photoredox_1700_ncv_start_results.json\", \"r\") as json_data:\n",
    "    r2_scores_start_all = json.loads(json_data.read())\n",
    "\n",
    "with open (f\"results/pretrained_photoredox_1700_ncv_results.json\", \"r\") as json_data:\n",
    "    r2_scores_all = json.loads(json_data.read())\n",
    "\n",
    "r2_start_all_avg, r2_start_all_min, r2_start_all_max, r2_start_all_std = r2score_stats(r2_scores_start_all[1])    \n",
    "r2_all_avg, r2_all_min, r2_all_max, r2_all_std = r2score_stats(r2_scores_all[1])\n",
    "\n",
    "r2_all_avg = r2_start_all_avg+r2_all_avg; r2_all_min = r2_start_all_min+r2_all_min; r2_all_max = r2_start_all_max+r2_all_max;r2_all_std = r2_start_all_std + r2_all_std\n",
    "\n",
    "epochs_start = [int(ep.split(\"_\")[1]) for ep in list(r2_scores_start_all[1][\"ncv_0\"].keys())]\n",
    "epochs = [int(ep.split(\"_\")[1]) for ep in list(r2_scores_all[1][\"ncv_0\"].keys())]\n",
    "epochs = epochs_start+epochs\n",
    "\n",
    "plt.plot(epochs[:14], r2_all_avg[:14], marker='v', color='orange', label = \"Pistachio BERT\")\n",
    "plt.fill_between(epochs[:14], [i-j for i,j in zip(r2_all_avg[:14], r2_all_std[:14])], [i+j for i,j in zip(r2_all_avg[:14],r2_all_std[:14])], color='orange', alpha=0.2)\n",
    "plt.xlim(-5,110)\n",
    "plt.xlabel(\"Epochs\")\n",
    "plt.ylabel(\"Average r2 score\")\n",
    "plt.legend(loc = 'lower right')\n",
    "plt.show()"
   ]
  },
  {
   "cell_type": "code",
   "execution_count": null,
   "id": "5e403659",
   "metadata": {},
   "outputs": [],
   "source": []
  }
 ],
 "metadata": {
  "kernelspec": {
   "display_name": "Python [conda env:.conda-yields]",
   "language": "python",
   "name": "conda-env-.conda-yields-py"
  },
  "language_info": {
   "codemirror_mode": {
    "name": "ipython",
    "version": 3
   },
   "file_extension": ".py",
   "mimetype": "text/x-python",
   "name": "python",
   "nbconvert_exporter": "python",
   "pygments_lexer": "ipython3",
   "version": "3.6.12"
  }
 },
 "nbformat": 4,
 "nbformat_minor": 5
}
